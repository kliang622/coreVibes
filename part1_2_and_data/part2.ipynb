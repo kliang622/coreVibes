{
 "cells": [
  {
   "cell_type": "code",
   "execution_count": 1,
   "metadata": {},
   "outputs": [
    {
     "name": "stderr",
     "output_type": "stream",
     "text": [
      "23/12/07 04:28:22 WARN NativeCodeLoader: Unable to load native-hadoop library for your platform... using builtin-java classes where applicable\n",
      "Setting default log level to \"WARN\".\n",
      "To adjust logging level use sc.setLogLevel(newLevel). For SparkR, use setLogLevel(newLevel).\n"
     ]
    }
   ],
   "source": [
    "from pyspark.sql import SparkSession\n",
    "from pyspark.sql.functions import *\n",
    "from datetime import datetime\n",
    "import pandas as pd\n",
    "\n",
    "#spark = SparkSession.builder.master(\"local[1]\").appName(\"part2\").config(\"spark.executor.instances\", \"3\").getOrCreate()\n",
    "#spark.conf.set(\"spark.sql.execution.arrow.enabled\", \"true\")\n",
    "\n",
    "spark = SparkSession.builder.config(\"spark.jars\", \"/usr/share/java/mysql-connector-j-8.0.31.jar\") \\\n",
    "    .master(\"local\").appName(\"PySpark_MySQL_test\").getOrCreate()"
   ]
  },
  {
   "cell_type": "code",
   "execution_count": 5,
   "metadata": {},
   "outputs": [],
   "source": [
    "df = spark.read.format(\"csv\").option(\"header\", \"true\").load(\"/home/ubuntu/charts.csv\")"
   ]
  },
  {
   "cell_type": "code",
   "execution_count": 6,
   "metadata": {},
   "outputs": [
    {
     "name": "stdout",
     "output_type": "stream",
     "text": [
      "+--------------------+----+----------+--------------------+--------------------+---------+------+-------------+-------+\n",
      "|               title|rank|      date|              artist|                 url|   region| chart|        trend|streams|\n",
      "+--------------------+----+----------+--------------------+--------------------+---------+------+-------------+-------+\n",
      "|Chantaje (feat. M...|   1|2017-01-01|             Shakira|https://open.spot...|Argentina|top200|SAME_POSITION| 253019|\n",
      "|Vente Pa' Ca (fea...|   2|2017-01-01|        Ricky Martin|https://open.spot...|Argentina|top200|      MOVE_UP| 223988|\n",
      "|Reggaetón Lento (...|   3|2017-01-01|                CNCO|https://open.spot...|Argentina|top200|    MOVE_DOWN| 210943|\n",
      "|              Safari|   4|2017-01-01|J Balvin, Pharrel...|https://open.spot...|Argentina|top200|SAME_POSITION| 173865|\n",
      "|         Shaky Shaky|   5|2017-01-01|        Daddy Yankee|https://open.spot...|Argentina|top200|      MOVE_UP| 153956|\n",
      "|         Traicionera|   6|2017-01-01|     Sebastian Yatra|https://open.spot...|Argentina|top200|    MOVE_DOWN| 151140|\n",
      "|Cuando Se Pone a ...|   7|2017-01-01|              Rombai|https://open.spot...|Argentina|top200|    MOVE_DOWN| 148369|\n",
      "|Otra vez (feat. J...|   8|2017-01-01|       Zion & Lennox|https://open.spot...|Argentina|top200|    MOVE_DOWN| 143004|\n",
      "|        La Bicicleta|   9|2017-01-01|Carlos Vives, Sha...|https://open.spot...|Argentina|top200|      MOVE_UP| 126389|\n",
      "|Dile Que Tu Me Qu...|  10|2017-01-01|               Ozuna|https://open.spot...|Argentina|top200|    MOVE_DOWN| 112012|\n",
      "|  Andas En Mi Cabeza|  11|2017-01-01|Chino & Nacho, Da...|https://open.spot...|Argentina|top200|SAME_POSITION| 110395|\n",
      "|Desde Esa Noche (...|  12|2017-01-01|              Thalia|https://open.spot...|Argentina|top200|      MOVE_UP| 104592|\n",
      "|      Borro Cassette|  13|2017-01-01|              Maluma|https://open.spot...|Argentina|top200|      MOVE_UP| 101535|\n",
      "|Gyal You A Party ...|  14|2017-01-01|Charly Black, Dad...|https://open.spot...|Argentina|top200|    MOVE_DOWN|  99722|\n",
      "|Me llamas (feat. ...|  15|2017-01-01|             Piso 21|https://open.spot...|Argentina|top200|    MOVE_DOWN|  95010|\n",
      "|La Bicicleta (fea...|  16|2017-01-01|Carlos Vives, Sha...|https://open.spot...|Argentina|top200|      MOVE_UP|  92723|\n",
      "|DUELE EL CORAZON ...|  17|2017-01-01|    Enrique Iglesias|https://open.spot...|Argentina|top200|      MOVE_UP|  91325|\n",
      "|     Let Me Love You|  18|2017-01-01|DJ Snake, Justin ...|https://open.spot...|Argentina|top200|    MOVE_DOWN|  87926|\n",
      "|La Noche No Es pa...|  19|2017-01-01|         Mano Arriba|https://open.spot...|Argentina|top200|SAME_POSITION|  87033|\n",
      "|          Vacaciones|  20|2017-01-01|               Wisin|https://open.spot...|Argentina|top200|    MOVE_DOWN|  86103|\n",
      "+--------------------+----+----------+--------------------+--------------------+---------+------+-------------+-------+\n",
      "only showing top 20 rows\n",
      "\n"
     ]
    }
   ],
   "source": [
    "df.show()"
   ]
  },
  {
   "cell_type": "markdown",
   "metadata": {},
   "source": [
    "pre-processing"
   ]
  },
  {
   "cell_type": "code",
   "execution_count": 7,
   "metadata": {},
   "outputs": [
    {
     "name": "stdout",
     "output_type": "stream",
     "text": [
      "+--------------------+----+--------------------+--------------------+---------+------+-------------+-------+----------+\n",
      "|               title|rank|              artist|                 url|   region| chart|        trend|streams|      date|\n",
      "+--------------------+----+--------------------+--------------------+---------+------+-------------+-------+----------+\n",
      "|Chantaje (feat. M...|   1|             Shakira|https://open.spot...|Argentina|top200|SAME_POSITION| 253019|2017-01-01|\n",
      "|Vente Pa' Ca (fea...|   2|        Ricky Martin|https://open.spot...|Argentina|top200|      MOVE_UP| 223988|2017-01-01|\n",
      "|Reggaetón Lento (...|   3|                CNCO|https://open.spot...|Argentina|top200|    MOVE_DOWN| 210943|2017-01-01|\n",
      "|              Safari|   4|J Balvin, Pharrel...|https://open.spot...|Argentina|top200|SAME_POSITION| 173865|2017-01-01|\n",
      "|         Shaky Shaky|   5|        Daddy Yankee|https://open.spot...|Argentina|top200|      MOVE_UP| 153956|2017-01-01|\n",
      "|         Traicionera|   6|     Sebastian Yatra|https://open.spot...|Argentina|top200|    MOVE_DOWN| 151140|2017-01-01|\n",
      "|Cuando Se Pone a ...|   7|              Rombai|https://open.spot...|Argentina|top200|    MOVE_DOWN| 148369|2017-01-01|\n",
      "|Otra vez (feat. J...|   8|       Zion & Lennox|https://open.spot...|Argentina|top200|    MOVE_DOWN| 143004|2017-01-01|\n",
      "|        La Bicicleta|   9|Carlos Vives, Sha...|https://open.spot...|Argentina|top200|      MOVE_UP| 126389|2017-01-01|\n",
      "|Dile Que Tu Me Qu...|  10|               Ozuna|https://open.spot...|Argentina|top200|    MOVE_DOWN| 112012|2017-01-01|\n",
      "|  Andas En Mi Cabeza|  11|Chino & Nacho, Da...|https://open.spot...|Argentina|top200|SAME_POSITION| 110395|2017-01-01|\n",
      "|Desde Esa Noche (...|  12|              Thalia|https://open.spot...|Argentina|top200|      MOVE_UP| 104592|2017-01-01|\n",
      "|      Borro Cassette|  13|              Maluma|https://open.spot...|Argentina|top200|      MOVE_UP| 101535|2017-01-01|\n",
      "|Gyal You A Party ...|  14|Charly Black, Dad...|https://open.spot...|Argentina|top200|    MOVE_DOWN|  99722|2017-01-01|\n",
      "|Me llamas (feat. ...|  15|             Piso 21|https://open.spot...|Argentina|top200|    MOVE_DOWN|  95010|2017-01-01|\n",
      "|La Bicicleta (fea...|  16|Carlos Vives, Sha...|https://open.spot...|Argentina|top200|      MOVE_UP|  92723|2017-01-01|\n",
      "|DUELE EL CORAZON ...|  17|    Enrique Iglesias|https://open.spot...|Argentina|top200|      MOVE_UP|  91325|2017-01-01|\n",
      "|     Let Me Love You|  18|DJ Snake, Justin ...|https://open.spot...|Argentina|top200|    MOVE_DOWN|  87926|2017-01-01|\n",
      "|La Noche No Es pa...|  19|         Mano Arriba|https://open.spot...|Argentina|top200|SAME_POSITION|  87033|2017-01-01|\n",
      "|          Vacaciones|  20|               Wisin|https://open.spot...|Argentina|top200|    MOVE_DOWN|  86103|2017-01-01|\n",
      "+--------------------+----+--------------------+--------------------+---------+------+-------------+-------+----------+\n",
      "only showing top 20 rows\n",
      "\n"
     ]
    }
   ],
   "source": [
    "# dropping missing or null values\n",
    "df = df.dropna()\n",
    "\n",
    "# create \"newdate\" column as a date datatype since current date column is a string\n",
    "# want date datatype so that we can use the sql date functions\n",
    "df = df.withColumnRenamed(\"date\", \"olddate\")\n",
    "df = df.withColumn('date', to_date('olddate'))\n",
    "df = df.drop('olddate')\n",
    "\n",
    "df.show()\n",
    "# count of artist whose songs move up in the chart during a specific year order by count desc\n",
    "# x axis year, y artist move up value\n",
    "\n",
    "# for each artist group by artist max streams of an artist (by song?)"
   ]
  },
  {
   "cell_type": "code",
   "execution_count": 14,
   "metadata": {},
   "outputs": [],
   "source": [
    "# sentiment analysis of song lyrics\n",
    "df_s = spark.read.format(\"csv\").option(\"header\", \"true\").load(\"/home/ubuntu/sentimentFixed.csv\")"
   ]
  },
  {
   "cell_type": "code",
   "execution_count": 15,
   "metadata": {},
   "outputs": [
    {
     "name": "stderr",
     "output_type": "stream",
     "text": [
      "                                                                                \r"
     ]
    },
    {
     "name": "stdout",
     "output_type": "stream",
     "text": [
      "+--------------------+--------------------+------------------+-----------------+------------------+---------+\n",
      "|                Song|              Artist|               pos|              neu|               neg|Sentiment|\n",
      "+--------------------+--------------------+------------------+-----------------+------------------+---------+\n",
      "|       Carnavalintro|               Chano|               0.0|94.73684210526315| 5.263157894736842| Negative|\n",
      "|         Sex on Fire|       Kings of Leon|4.3478260869565215|95.65217391304348|               0.0| Positive|\n",
      "|Ya Me Enteré (fea...|                Reik|               0.0|            98.75|              1.25| Negative|\n",
      "|Como Faz Com Ela ...|    Marília Mendonça|16.071428571428573|83.92857142857143|               0.0| Positive|\n",
      "|Paluu tulevaisuuteen|                 JVG|               0.0|            100.0|               0.0|  Neutral|\n",
      "|       We Found Love|Rihanna, Calvin H...|             3.125|           96.875|               0.0| Positive|\n",
      "|Don Medellín (fea...|               Salmo|1.2658227848101267|89.87341772151899| 8.860759493670885| Negative|\n",
      "|        Lose Control|         Matt Simons| 6.976744186046512|93.02325581395348|               0.0| Positive|\n",
      "| Written in the Sand|        Old Dominion|23.076923076923077|73.07692307692307|3.8461538461538463| Positive|\n",
      "|             Manteli|Teflon Brothers, ...|               0.0|            100.0|               0.0|  Neutral|\n",
      "|             Paradis|             Orelsan|               0.0|            100.0|               0.0|  Neutral|\n",
      "|   Beng (feat. SBMG)|              $hirak|1.0309278350515463|89.69072164948454| 9.278350515463918| Negative|\n",
      "|              My Boo|  Usher, Alicia Keys|  5.88235294117647|94.11764705882352|               0.0| Positive|\n",
      "|           Tan Lejos|     No Te Va Gustar|               0.0|            100.0|               0.0|  Neutral|\n",
      "|            Fracture|SLUMBERJACK, Vera...|               0.0|            100.0|               0.0|  Neutral|\n",
      "|           Heartache|         ONE OK ROCK|2.9850746268656714|86.56716417910447| 10.44776119402985| Negative|\n",
      "|            Säga mig|   Linnea Henriksson|               0.0|            100.0|               0.0|  Neutral|\n",
      "|            Perjurio|        Romeo Santos|               0.0|98.46153846153847|1.5384615384615385| Negative|\n",
      "|          1942 Flows|           Meek Mill|1.9230769230769231|84.61538461538461|13.461538461538462| Negative|\n",
      "|          Noche Loca|      Marama, Rombai| 4.166666666666666|            93.75| 2.083333333333333| Positive|\n",
      "+--------------------+--------------------+------------------+-----------------+------------------+---------+\n",
      "only showing top 20 rows\n",
      "\n",
      "+--------------------+--------------------+---------+\n",
      "|                Song|              Artist|Sentiment|\n",
      "+--------------------+--------------------+---------+\n",
      "|       Carnavalintro|               Chano| Negative|\n",
      "|         Sex on Fire|       Kings of Leon| Positive|\n",
      "|Ya Me Enteré (fea...|                Reik| Negative|\n",
      "|Como Faz Com Ela ...|    Marília Mendonça| Positive|\n",
      "|Paluu tulevaisuuteen|                 JVG|  Neutral|\n",
      "|       We Found Love|Rihanna, Calvin H...| Positive|\n",
      "|Don Medellín (fea...|               Salmo| Negative|\n",
      "|        Lose Control|         Matt Simons| Positive|\n",
      "| Written in the Sand|        Old Dominion| Positive|\n",
      "|             Manteli|Teflon Brothers, ...|  Neutral|\n",
      "|             Paradis|             Orelsan|  Neutral|\n",
      "|   Beng (feat. SBMG)|              $hirak| Negative|\n",
      "|              My Boo|  Usher, Alicia Keys| Positive|\n",
      "|           Tan Lejos|     No Te Va Gustar|  Neutral|\n",
      "|            Fracture|SLUMBERJACK, Vera...|  Neutral|\n",
      "|           Heartache|         ONE OK ROCK| Negative|\n",
      "|            Säga mig|   Linnea Henriksson|  Neutral|\n",
      "|            Perjurio|        Romeo Santos| Negative|\n",
      "|          1942 Flows|           Meek Mill| Negative|\n",
      "|          Noche Loca|      Marama, Rombai| Positive|\n",
      "+--------------------+--------------------+---------+\n",
      "only showing top 20 rows\n",
      "\n"
     ]
    }
   ],
   "source": [
    "df_s = df_s.filter(df_s.Sentiment.isNotNull())\n",
    "df_s = df_s.drop('_c0')\n",
    "df_s = df_s.distinct()\n",
    "df_s.show()\n",
    "df_s.count()\n",
    "df_s = df_s.drop('pos')\n",
    "df_s = df_s.drop('neu')\n",
    "df_s = df_s.drop('neg')\n",
    "df_s.show()"
   ]
  },
  {
   "cell_type": "code",
   "execution_count": 8,
   "metadata": {},
   "outputs": [
    {
     "name": "stdout",
     "output_type": "stream",
     "text": [
      "+--------------------+--------------------+--------------------+\n",
      "|              Artist|                Song|              Lyrics|\n",
      "+--------------------+--------------------+--------------------+\n",
      "|             Shakira|Chantaje (feat. M...|\"\"\"2 Contributors...|\n",
      "|        Ricky Martin|Vente Pa' Ca (fea...|\"'3 ContributorsN...|\n",
      "|                CNCO|Reggaet�n Lento (...|\"\"\"25 Contributor...|\n",
      "|J Balvin, Pharrel...|              Safari|\"\"\"39 Contributor...|\n",
      "|        Daddy Yankee|         Shaky Shaky|\"\"\"22 Contributor...|\n",
      "|     Sebastian Yatra|         Traicionera|'11 ContributorsT...|\n",
      "|              Rombai|Cuando Se Pone a ...|'3 ContributorsCu...|\n",
      "|       Zion & Lennox|Otra vez (feat. J...|\"\"\"2 Contributors...|\n",
      "|Carlos Vives, Sha...|        La Bicicleta|\"\"\"50 Contributor...|\n",
      "|               Ozuna|Dile Que Tu Me Qu...|\"'33 Contributors...|\n",
      "|Chino & Nacho, Da...|  Andas En Mi Cabeza|\"'10 Contributors...|\n",
      "|              Thalia|Desde Esa Noche (...|'1 ContributorTha...|\n",
      "|              Maluma|      Borro Cassette|\"\"\"16 Contributor...|\n",
      "|Charly Black, Dad...|Gyal You A Party ...|\"\"\"9 Contributors...|\n",
      "|             Piso 21|Me llamas (feat. ...|'8 ContributorsMe...|\n",
      "|Carlos Vives, Sha...|La Bicicleta (fea...|\"\"\"8 Contributors...|\n",
      "|    Enrique Iglesias|DUELE EL CORAZON ...|\"\"\"3 Contributors...|\n",
      "|DJ Snake, Justin ...|     Let Me Love You|\"\"\"162 Contributo...|\n",
      "|         Mano Arriba|La Noche No Es pa...|'2 ContributorsLa...|\n",
      "|               Wisin|          Vacaciones|\"\"\"12 Contributor...|\n",
      "+--------------------+--------------------+--------------------+\n",
      "only showing top 20 rows\n",
      "\n"
     ]
    }
   ],
   "source": [
    "df_ly = spark.read.format(\"csv\").option(\"header\", \"true\").load(\"/home/ubuntu/cleanedTestAuto.csv\")\n",
    "df_ly.show()"
   ]
  },
  {
   "cell_type": "markdown",
   "metadata": {},
   "source": [
    "mysql"
   ]
  },
  {
   "cell_type": "code",
   "execution_count": 2,
   "metadata": {},
   "outputs": [],
   "source": [
    "import mysql.connector\n",
    "\n",
    "db_connection = mysql.connector.connect(user=\"hpham\", password=\"halpal\")\n",
    "db_cursor = db_connection.cursor()\n",
    "db_cursor.execute(\"USE cs179g;\")"
   ]
  },
  {
   "cell_type": "code",
   "execution_count": 5,
   "metadata": {},
   "outputs": [
    {
     "name": "stderr",
     "output_type": "stream",
     "text": [
      "Loading class `com.mysql.jdbc.Driver'. This is deprecated. The new driver class is `com.mysql.cj.jdbc.Driver'. The driver is automatically registered via the SPI and manual loading of the driver class is generally unnecessary.\n"
     ]
    },
    {
     "name": "stdout",
     "output_type": "stream",
     "text": [
      "+---------+-------------------+----------+\n",
      "|   region|             artist|song_count|\n",
      "+---------+-------------------+----------+\n",
      "|Argentina|             Maluma|      5673|\n",
      "|Argentina|       Paulo Londra|      5630|\n",
      "|Argentina|         Ed Sheeran|      5397|\n",
      "|Australia|         Ed Sheeran|     13194|\n",
      "|Australia|        Post Malone|      7907|\n",
      "|Australia|      Billie Eilish|      7141|\n",
      "|  Austria|         Ed Sheeran|      5431|\n",
      "|  Austria|        Capital Bra|      4695|\n",
      "|  Austria|      Billie Eilish|      4275|\n",
      "|  Belgium|         Ed Sheeran|      8567|\n",
      "|  Belgium|      Billie Eilish|      6366|\n",
      "|  Belgium|       XXXTENTACION|      5604|\n",
      "|  Bolivia|          Bad Bunny|      8703|\n",
      "|  Bolivia|             Maluma|      6296|\n",
      "|  Bolivia|    Christian Nodal|      4676|\n",
      "|   Brazil|   Marília Mendonça|     11059|\n",
      "|   Brazil|Zé Neto & Cristiano|      9385|\n",
      "|   Brazil| Henrique & Juliano|      8914|\n",
      "| Bulgaria|          Pop Smoke|      3265|\n",
      "| Bulgaria|       Travis Scott|      2760|\n",
      "+---------+-------------------+----------+\n",
      "only showing top 20 rows\n",
      "\n"
     ]
    }
   ],
   "source": [
    "temp = spark.read.format(\"jdbc\").option(\"driver\",\"com.mysql.jdbc.Driver\").option(\"url\", \"jdbc:mysql://localhost:3306/cs179g\").option(\"dbtable\", \"ArtistByRegion\").option(\"user\", \"hpham\").option(\"password\", \"halpal\").load()\n",
    "\n",
    "temp.show()"
   ]
  },
  {
   "cell_type": "code",
   "execution_count": 6,
   "metadata": {},
   "outputs": [
    {
     "name": "stdout",
     "output_type": "stream",
     "text": [
      "(38, 'Drake', 'spring')\n",
      "(38, 'Lil Uzi Vert', 'spring')\n",
      "(33, 'Taylor Swift', 'spring')\n",
      "(32, 'BTS', 'spring')\n",
      "(31, 'Ed Sheeran', 'spring')\n",
      "(29, 'Juice WRLD', 'spring')\n",
      "(27, 'J. Cole', 'spring')\n",
      "(27, 'The Weeknd', 'spring')\n",
      "(26, 'Post Malone', 'spring')\n",
      "(24, 'Logic', 'spring')\n"
     ]
    }
   ],
   "source": [
    "db_cursor.execute(\"SELECT * FROM Seasons WHERE season='spring';\")\n",
    "# Fetch all the results\n",
    "results = db_cursor.fetchall()\n",
    "\n",
    "# Display the results\n",
    "for row in results:\n",
    "    print(row)"
   ]
  },
  {
   "cell_type": "markdown",
   "metadata": {},
   "source": [
    "ArtistByRegion - the top 3 most popular artists per region (per region chart, the # of times their song showed up on the top200 chart over all years) "
   ]
  },
  {
   "cell_type": "code",
   "execution_count": 7,
   "metadata": {},
   "outputs": [],
   "source": [
    "df.createOrReplaceTempView(\"songs\")\n",
    "temp = spark.sql(\"\"\"SELECT * FROM songs WHERE chart=='top200'\"\"\")\n",
    "temp.createOrReplaceTempView('top200')"
   ]
  },
  {
   "cell_type": "code",
   "execution_count": 14,
   "metadata": {},
   "outputs": [
    {
     "name": "stderr",
     "output_type": "stream",
     "text": [
      "[Stage 21:>                                                         (0 + 1) / 1]\r"
     ]
    },
    {
     "name": "stdout",
     "output_type": "stream",
     "text": [
      "+---------+-------------------+----------+\n",
      "|   region|             artist|song_count|\n",
      "+---------+-------------------+----------+\n",
      "|Argentina|             Maluma|      5673|\n",
      "|Argentina|       Paulo Londra|      5630|\n",
      "|Argentina|         Ed Sheeran|      5397|\n",
      "|Australia|         Ed Sheeran|     13194|\n",
      "|Australia|        Post Malone|      7907|\n",
      "|Australia|      Billie Eilish|      7141|\n",
      "|  Austria|         Ed Sheeran|      5431|\n",
      "|  Austria|        Capital Bra|      4695|\n",
      "|  Austria|      Billie Eilish|      4275|\n",
      "|  Belgium|         Ed Sheeran|      8567|\n",
      "|  Belgium|      Billie Eilish|      6366|\n",
      "|  Belgium|       XXXTENTACION|      5604|\n",
      "|  Bolivia|          Bad Bunny|      8703|\n",
      "|  Bolivia|             Maluma|      6296|\n",
      "|  Bolivia|    Christian Nodal|      4676|\n",
      "|   Brazil|   Marília Mendonça|     11059|\n",
      "|   Brazil|Zé Neto & Cristiano|      9385|\n",
      "|   Brazil| Henrique & Juliano|      8914|\n",
      "| Bulgaria|          Pop Smoke|      3265|\n",
      "| Bulgaria|       Travis Scott|      2760|\n",
      "+---------+-------------------+----------+\n",
      "only showing top 20 rows\n",
      "\n"
     ]
    },
    {
     "name": "stderr",
     "output_type": "stream",
     "text": [
      "                                                                                \r"
     ]
    }
   ],
   "source": [
    "cloud = spark.sql(\"SELECT region,artist, COUNT(*) AS song_count, ROW_NUMBER() OVER(PARTITION BY region ORDER BY COUNT(*) DESC) AS artist_rank FROM top200 GROUP BY region, artist\")\n",
    "cloud.createOrReplaceTempView(\"clouds\")\n",
    "all_regions = spark.sql(\"SELECT region, artist, song_count FROM clouds WHERE artist_rank <= 3\")\n",
    "all_regions.show()"
   ]
  },
  {
   "cell_type": "code",
   "execution_count": 9,
   "metadata": {},
   "outputs": [
    {
     "ename": "NameError",
     "evalue": "name 'all_regions' is not defined",
     "output_type": "error",
     "traceback": [
      "\u001b[0;31m---------------------------------------------------------------------------\u001b[0m",
      "\u001b[0;31mNameError\u001b[0m                                 Traceback (most recent call last)",
      "\u001b[1;32m/home/ubuntu/part2.ipynb Cell 16\u001b[0m line \u001b[0;36m1\n\u001b[0;32m----> <a href='vscode-notebook-cell://ssh-remote%2Bcs179g/home/ubuntu/part2.ipynb#X21sdnNjb2RlLXJlbW90ZQ%3D%3D?line=0'>1</a>\u001b[0m all_regions\u001b[39m.\u001b[39mwrite\u001b[39m.\u001b[39mformat(\u001b[39m\"\u001b[39m\u001b[39mjdbc\u001b[39m\u001b[39m\"\u001b[39m)\u001b[39m.\u001b[39moption(\u001b[39m\"\u001b[39m\u001b[39mdriver\u001b[39m\u001b[39m\"\u001b[39m,\u001b[39m\"\u001b[39m\u001b[39mcom.mysql.jdbc.Driver\u001b[39m\u001b[39m\"\u001b[39m)\u001b[39m.\u001b[39moption(\u001b[39m\"\u001b[39m\u001b[39murl\u001b[39m\u001b[39m\"\u001b[39m, \u001b[39m\"\u001b[39m\u001b[39mjdbc:mysql://localhost:3306/cs179g\u001b[39m\u001b[39m\"\u001b[39m)\u001b[39m.\u001b[39moption(\u001b[39m\"\u001b[39m\u001b[39mdbtable\u001b[39m\u001b[39m\"\u001b[39m, \u001b[39m\"\u001b[39m\u001b[39mArtistByRegion\u001b[39m\u001b[39m\"\u001b[39m)\u001b[39m.\u001b[39moption(\u001b[39m\"\u001b[39m\u001b[39muser\u001b[39m\u001b[39m\"\u001b[39m, \u001b[39m\"\u001b[39m\u001b[39mhpham\u001b[39m\u001b[39m\"\u001b[39m)\u001b[39m.\u001b[39moption(\u001b[39m\"\u001b[39m\u001b[39mpassword\u001b[39m\u001b[39m\"\u001b[39m, \u001b[39m\"\u001b[39m\u001b[39mhalpal\u001b[39m\u001b[39m\"\u001b[39m)\u001b[39m.\u001b[39msave()\n",
      "\u001b[0;31mNameError\u001b[0m: name 'all_regions' is not defined"
     ]
    }
   ],
   "source": [
    "all_regions.write.format(\"jdbc\").option(\"driver\",\"com.mysql.jdbc.Driver\").option(\"url\", \"jdbc:mysql://localhost:3306/cs179g\").option(\"dbtable\", \"ArtistByRegion\").option(\"user\", \"hpham\").option(\"password\", \"halpal\").save()"
   ]
  },
  {
   "cell_type": "markdown",
   "metadata": {},
   "source": [
    "Seasons - top 10 most popular artists per season (based on global charts)"
   ]
  },
  {
   "cell_type": "code",
   "execution_count": 17,
   "metadata": {},
   "outputs": [],
   "source": [
    "# create temp view and filter for only the global top 200 charts\n",
    "df.createOrReplaceTempView('df_dates')\n",
    "temp = spark.sql(\"\"\"\n",
    "  SELECT EXTRACT(MONTH FROM date) as month, artist, title, region, rank FROM df_dates WHERE region=='Global' AND chart=='top200'\n",
    "\"\"\")\n",
    "temp.createOrReplaceTempView('global_withmonth')"
   ]
  },
  {
   "cell_type": "code",
   "execution_count": 18,
   "metadata": {},
   "outputs": [
    {
     "name": "stderr",
     "output_type": "stream",
     "text": [
      "[Stage 25:=====================================================>  (25 + 1) / 26]\r"
     ]
    },
    {
     "name": "stdout",
     "output_type": "stream",
     "text": [
      "+-----------+------------------+\n",
      "|title_count|            artist|\n",
      "+-----------+------------------+\n",
      "|        128|      Taylor Swift|\n",
      "|         95|             Drake|\n",
      "|         76|               BTS|\n",
      "|         72|        Juice WRLD|\n",
      "|         62|            Future|\n",
      "|         62|            Eminem|\n",
      "|         62|        Ed Sheeran|\n",
      "|         57|      Lil Uzi Vert|\n",
      "|         56|     Ariana Grande|\n",
      "|         49|      XXXTENTACION|\n",
      "|         46|             Logic|\n",
      "|         45|             Migos|\n",
      "|         44|        Kanye West|\n",
      "|         42|     Billie Eilish|\n",
      "|         41|      Trippie Redd|\n",
      "|         41|       Post Malone|\n",
      "|         40|         Pop Smoke|\n",
      "|         39|          Lil Baby|\n",
      "|         39|     Justin Bieber|\n",
      "|         38|Tyler, The Creator|\n",
      "+-----------+------------------+\n",
      "only showing top 20 rows\n",
      "\n"
     ]
    },
    {
     "name": "stderr",
     "output_type": "stream",
     "text": [
      "                                                                                \r"
     ]
    }
   ],
   "source": [
    "seasons = spark.sql(\"\"\"\n",
    "  SELECT COUNT(DISTINCT title) as title_count, artist FROM global_withmonth GROUP BY artist ORDER BY title_count DESC\n",
    "\"\"\")\n",
    "seasons.createOrReplaceTempView('seasons')\n",
    "seasons.show()"
   ]
  },
  {
   "cell_type": "code",
   "execution_count": 25,
   "metadata": {},
   "outputs": [
    {
     "name": "stderr",
     "output_type": "stream",
     "text": [
      "[Stage 71:=====================================================>  (25 + 1) / 26]\r"
     ]
    },
    {
     "name": "stdout",
     "output_type": "stream",
     "text": [
      "+-----------+-------------+------+\n",
      "|title_count|       artist|season|\n",
      "+-----------+-------------+------+\n",
      "|         48|       Eminem|winter|\n",
      "|         39| Taylor Swift|winter|\n",
      "|         38|   Juice WRLD|winter|\n",
      "|         34|       Future|winter|\n",
      "|         31|Ariana Grande|winter|\n",
      "|         30|          BTS|winter|\n",
      "|         29|    Bad Bunny|winter|\n",
      "|         29|        Migos|winter|\n",
      "|         28|Justin Bieber|winter|\n",
      "|         28|   Ed Sheeran|winter|\n",
      "+-----------+-------------+------+\n",
      "\n"
     ]
    },
    {
     "name": "stderr",
     "output_type": "stream",
     "text": [
      "                                                                                \r"
     ]
    }
   ],
   "source": [
    "# winter\n",
    "winter = spark.sql(\"\"\"\n",
    "  SELECT artist, title, month, region, rank FROM global_withmonth WHERE (month < 3) OR (month == 12)\n",
    "\"\"\")\n",
    "winter.createOrReplaceTempView('winterseasons')\n",
    "winter2 = spark.sql(\"\"\"\n",
    "  SELECT COUNT(DISTINCT title) as title_count, artist FROM winterseasons GROUP BY artist ORDER BY title_count DESC\n",
    "\"\"\")\n",
    "winter2.createOrReplaceTempView('winterseasons')\n",
    "winter3 = spark.sql(\"\"\"\n",
    "  SELECT title_count, artist FROM winterseasons LIMIT 10\n",
    "\"\"\")\n",
    "winter3 = winter3.withColumn(\"season\", lit(\"winter\"))\n",
    "winter3.show()"
   ]
  },
  {
   "cell_type": "code",
   "execution_count": 24,
   "metadata": {},
   "outputs": [
    {
     "name": "stderr",
     "output_type": "stream",
     "text": [
      "[Stage 65:=====================================================>  (25 + 1) / 26]\r"
     ]
    },
    {
     "name": "stdout",
     "output_type": "stream",
     "text": [
      "+-----------+------------+------+\n",
      "|title_count|      artist|season|\n",
      "+-----------+------------+------+\n",
      "|         38|       Drake|spring|\n",
      "|         38|Lil Uzi Vert|spring|\n",
      "|         33|Taylor Swift|spring|\n",
      "|         32|         BTS|spring|\n",
      "|         31|  Ed Sheeran|spring|\n",
      "|         29|  Juice WRLD|spring|\n",
      "|         27|     J. Cole|spring|\n",
      "|         27|  The Weeknd|spring|\n",
      "|         26| Post Malone|spring|\n",
      "|         24|       Logic|spring|\n",
      "+-----------+------------+------+\n",
      "\n"
     ]
    },
    {
     "name": "stderr",
     "output_type": "stream",
     "text": [
      "                                                                                \r"
     ]
    }
   ],
   "source": [
    "# spring\n",
    "spring = spark.sql(\"\"\"\n",
    "  SELECT artist, title, month, region, rank FROM global_withmonth WHERE (month > 2) AND (month < 6)\n",
    "\"\"\")\n",
    "spring.createOrReplaceTempView('springseasons')\n",
    "spring2 = spark.sql(\"\"\"\n",
    "  SELECT COUNT(DISTINCT title) as title_count, artist FROM springseasons GROUP BY artist ORDER BY title_count DESC\n",
    "\"\"\")\n",
    "spring2.createOrReplaceTempView('springseasons')\n",
    "spring3 = spark.sql(\"\"\"\n",
    "  SELECT title_count, artist FROM springseasons LIMIT 10\n",
    "\"\"\")\n",
    "spring3 = spring3.withColumn(\"season\", lit(\"spring\"))\n",
    "spring3.show()"
   ]
  },
  {
   "cell_type": "code",
   "execution_count": 26,
   "metadata": {},
   "outputs": [
    {
     "name": "stderr",
     "output_type": "stream",
     "text": [
      "[Stage 77:=====================================================>  (25 + 1) / 26]\r"
     ]
    },
    {
     "name": "stdout",
     "output_type": "stream",
     "text": [
      "+-----------+------------------+------+\n",
      "|title_count|            artist|season|\n",
      "+-----------+------------------+------+\n",
      "|         51|             Drake|summer|\n",
      "|         42|      Taylor Swift|summer|\n",
      "|         36|      XXXTENTACION|summer|\n",
      "|         36|         Pop Smoke|summer|\n",
      "|         34|       Linkin Park|summer|\n",
      "|         32|        Kanye West|summer|\n",
      "|         31|     Billie Eilish|summer|\n",
      "|         28|Tyler, The Creator|summer|\n",
      "|         28|        Ed Sheeran|summer|\n",
      "|         28|               BTS|summer|\n",
      "+-----------+------------------+------+\n",
      "\n"
     ]
    },
    {
     "name": "stderr",
     "output_type": "stream",
     "text": [
      "                                                                                \r"
     ]
    }
   ],
   "source": [
    "# summer\n",
    "summer = spark.sql(\"\"\"\n",
    "  SELECT artist, title, month, region, rank FROM global_withmonth WHERE (month > 5) AND (month < 9)\n",
    "\"\"\")\n",
    "summer.createOrReplaceTempView('summerseasons')\n",
    "summer2 = spark.sql(\"\"\"\n",
    "  SELECT COUNT(DISTINCT title) as title_count, artist FROM summerseasons GROUP BY artist ORDER BY title_count DESC\n",
    "\"\"\")\n",
    "summer2.createOrReplaceTempView('summerseasons')\n",
    "summer3 = spark.sql(\"\"\"\n",
    "  SELECT title_count, artist FROM summerseasons LIMIT 10\n",
    "\"\"\")\n",
    "summer3 = summer3.withColumn(\"season\", lit(\"summer\"))\n",
    "summer3.show()"
   ]
  },
  {
   "cell_type": "code",
   "execution_count": 28,
   "metadata": {},
   "outputs": [
    {
     "name": "stderr",
     "output_type": "stream",
     "text": [
      "[Stage 89:=====================================================>  (25 + 1) / 26]\r"
     ]
    },
    {
     "name": "stdout",
     "output_type": "stream",
     "text": [
      "+-----------+-------------+------+\n",
      "|title_count|       artist|season|\n",
      "+-----------+-------------+------+\n",
      "|         59| Taylor Swift|  fall|\n",
      "|         35|   Kanye West|  fall|\n",
      "|         34|        Drake|  fall|\n",
      "|         28|Ariana Grande|  fall|\n",
      "|         27|   Ed Sheeran|  fall|\n",
      "|         26|  Post Malone|  fall|\n",
      "|         25|        Adele|  fall|\n",
      "|         25|          BTS|  fall|\n",
      "|         23|    Lil Wayne|  fall|\n",
      "|         22|    Sam Smith|  fall|\n",
      "+-----------+-------------+------+\n",
      "\n"
     ]
    },
    {
     "name": "stderr",
     "output_type": "stream",
     "text": [
      "                                                                                \r"
     ]
    }
   ],
   "source": [
    "# fall\n",
    "fall = spark.sql(\"\"\"\n",
    "  SELECT artist, title, month, region, rank FROM global_withmonth WHERE (month > 8) AND (month < 12)\n",
    "\"\"\")\n",
    "fall.createOrReplaceTempView('fallseasons')\n",
    "fall2 = spark.sql(\"\"\"\n",
    "  SELECT COUNT(DISTINCT title) as title_count, artist FROM fallseasons GROUP BY artist ORDER BY title_count DESC\n",
    "\"\"\")\n",
    "fall2.createOrReplaceTempView('fallseasons')\n",
    "fall3 = spark.sql(\"\"\"\n",
    "  SELECT title_count, artist FROM fallseasons LIMIT 10\n",
    "\"\"\")\n",
    "fall3 = fall3.withColumn(\"season\", lit(\"fall\"))\n",
    "fall3.show()"
   ]
  },
  {
   "cell_type": "code",
   "execution_count": 12,
   "metadata": {},
   "outputs": [
    {
     "ename": "NameError",
     "evalue": "name 'winter3' is not defined",
     "output_type": "error",
     "traceback": [
      "\u001b[0;31m---------------------------------------------------------------------------\u001b[0m",
      "\u001b[0;31mNameError\u001b[0m                                 Traceback (most recent call last)",
      "\u001b[1;32m/home/ubuntu/part2.ipynb Cell 24\u001b[0m line \u001b[0;36m2\n\u001b[1;32m      <a href='vscode-notebook-cell://ssh-remote%2Bcs179g/home/ubuntu/part2.ipynb#X32sdnNjb2RlLXJlbW90ZQ%3D%3D?line=0'>1</a>\u001b[0m \u001b[39m# combining all of the seasons of top 10 into one table\u001b[39;00m\n\u001b[0;32m----> <a href='vscode-notebook-cell://ssh-remote%2Bcs179g/home/ubuntu/part2.ipynb#X32sdnNjb2RlLXJlbW90ZQ%3D%3D?line=1'>2</a>\u001b[0m all_seasons_top10 \u001b[39m=\u001b[39m winter3\u001b[39m.\u001b[39munion(spring3)\u001b[39m.\u001b[39munion(fall3)\u001b[39m.\u001b[39munion(summer3)\n\u001b[1;32m      <a href='vscode-notebook-cell://ssh-remote%2Bcs179g/home/ubuntu/part2.ipynb#X32sdnNjb2RlLXJlbW90ZQ%3D%3D?line=3'>4</a>\u001b[0m all_seasons_top10\u001b[39m.\u001b[39mshow(\u001b[39m40\u001b[39m, \u001b[39mFalse\u001b[39;00m)\n",
      "\u001b[0;31mNameError\u001b[0m: name 'winter3' is not defined"
     ]
    }
   ],
   "source": [
    "# combining all of the seasons of top 10 into one table\n",
    "all_seasons_top10 = winter3.union(spring3).union(fall3).union(summer3)\n",
    "\n",
    "all_seasons_top10.show(40, False)"
   ]
  },
  {
   "cell_type": "markdown",
   "metadata": {},
   "source": [
    "MostPopularPerYear - top 20 most popular artists per year (over the whole world, aka all regions)"
   ]
  },
  {
   "cell_type": "code",
   "execution_count": 70,
   "metadata": {},
   "outputs": [],
   "source": [
    "df.createOrReplaceTempView('df1')\n",
    "temp = spark.sql(\"\"\"\n",
    "  SELECT * FROM df1 WHERE chart='top200'\n",
    "\"\"\")\n",
    "temp.createOrReplaceTempView('df1')\n",
    "pop_artist2017 = spark.sql(\"\"\"\n",
    "  SELECT artist, COUNT(*) AS SongCount FROM df1 WHERE YEAR(date) = 2017 GROUP BY artist ORDER BY SongCount DESC LIMIT 20\n",
    "\"\"\")\n",
    "pop_artist2018 = spark.sql(\"\"\"\n",
    "  SELECT artist, COUNT(*) AS SongCount FROM df1 WHERE YEAR(date) = 2018 GROUP BY artist ORDER BY SongCount DESC LIMIT 20\n",
    "\"\"\")\n",
    "pop_artist2019 = spark.sql(\"\"\"\n",
    "  SELECT artist, COUNT(*) AS SongCount FROM df1 WHERE YEAR(date) = 2019 GROUP BY artist ORDER BY SongCount DESC LIMIT 20\n",
    "\"\"\")\n",
    "pop_artist2020 = spark.sql(\"\"\"\n",
    "  SELECT artist, COUNT(*) AS SongCount FROM df1 WHERE YEAR(date) = 2020 GROUP BY artist ORDER BY SongCount DESC LIMIT 20\n",
    "\"\"\")\n",
    "pop_artist2021 = spark.sql(\"\"\"\n",
    "  SELECT artist, COUNT(*) AS SongCount FROM df1 WHERE YEAR(date) = 2021 GROUP BY artist ORDER BY SongCount DESC LIMIT 20\n",
    "\"\"\")\n",
    "pop_artist2017 = pop_artist2017.withColumn(\"year\", lit(\"2017\"))\n",
    "pop_artist2018 = pop_artist2018.withColumn(\"year\", lit(\"2018\"))\n",
    "pop_artist2019 = pop_artist2019.withColumn(\"year\", lit(\"2019\"))\n",
    "pop_artist2020 = pop_artist2020.withColumn(\"year\", lit(\"2020\"))\n",
    "pop_artist2021 = pop_artist2021.withColumn(\"year\", lit(\"2021\"))"
   ]
  },
  {
   "cell_type": "code",
   "execution_count": 71,
   "metadata": {},
   "outputs": [
    {
     "name": "stderr",
     "output_type": "stream",
     "text": [
      "[Stage 257:====================================================>  (25 + 1) / 26]\r"
     ]
    },
    {
     "name": "stdout",
     "output_type": "stream",
     "text": [
      "+--------------------+---------+----+\n",
      "|              artist|SongCount|year|\n",
      "+--------------------+---------+----+\n",
      "|          Ed Sheeran|   125658|2017|\n",
      "|     Imagine Dragons|    37387|2017|\n",
      "|        Shawn Mendes|    33044|2017|\n",
      "|          Bruno Mars|    32623|2017|\n",
      "|         Major Lazer|    32021|2017|\n",
      "|        Clean Bandit|    30864|2017|\n",
      "|        Charlie Puth|    30670|2017|\n",
      "|    The Chainsmokers|    30297|2017|\n",
      "|      Kendrick Lamar|    29212|2017|\n",
      "|The Weeknd, Daft ...|    27429|2017|\n",
      "|               Drake|    27277|2017|\n",
      "|               Ozuna|    25840|2017|\n",
      "|       Justin Bieber|    23638|2017|\n",
      "|Calvin Harris, Fu...|    22610|2017|\n",
      "|              Maluma|    21785|2017|\n",
      "|   Twenty One Pilots|    18909|2017|\n",
      "|         Alan Walker|    18881|2017|\n",
      "|           Nicky Jam|    18663|2017|\n",
      "|        Jason Derulo|    18128|2017|\n",
      "|           DJ Khaled|    18041|2017|\n",
      "+--------------------+---------+----+\n",
      "only showing top 20 rows\n",
      "\n"
     ]
    },
    {
     "name": "stderr",
     "output_type": "stream",
     "text": [
      "                                                                                \r"
     ]
    }
   ],
   "source": [
    "popular_artists_2017to2021 = pop_artist2017.union(pop_artist2018).union(pop_artist2019).union(pop_artist2020).union(pop_artist2021)\n",
    "popular_artists_2017to2021.show()"
   ]
  },
  {
   "cell_type": "markdown",
   "metadata": {},
   "source": [
    "HottestSongsPerYear - hottest / top 10 trending songs (that move up the most in the charts) by year"
   ]
  },
  {
   "cell_type": "code",
   "execution_count": 22,
   "metadata": {},
   "outputs": [
    {
     "name": "stderr",
     "output_type": "stream",
     "text": [
      "                                                                                \r"
     ]
    },
    {
     "name": "stdout",
     "output_type": "stream",
     "text": [
      "+--------------------+--------------------+----------+----+\n",
      "|              artist|               title|TrendCount|year|\n",
      "+--------------------+--------------------+----------+----+\n",
      "|     Imagine Dragons|            Believer|      6541|2017|\n",
      "|          Luis Fonsi|Despacito (Featur...|      5844|2017|\n",
      "|        Clean Bandit|Rockabye (feat. S...|      5823|2017|\n",
      "|  Post Malone, Quavo|     Congratulations|      5689|2017|\n",
      "|          Ed Sheeran|          Photograph|      5511|2017|\n",
      "|        Jason Derulo|Swalla (feat. Nic...|      5485|2017|\n",
      "|Martin Garrix, Du...| Scared to Be Lonely|      5387|2017|\n",
      "|          Bruno Mars|  That's What I Like|      5376|2017|\n",
      "|The Chainsmokers,...|              Closer|      5368|2017|\n",
      "|  ZAYN, Taylor Swift|\"I Don’t Wanna Li...|      5348|2017|\n",
      "|          Ed Sheeran|        Shape of You|      8043|2018|\n",
      "|          Ed Sheeran|             Perfect|      7009|2018|\n",
      "|            Dua Lipa|           New Rules|      6936|2018|\n",
      "|            Dua Lipa|               IDGAF|      6921|2018|\n",
      "|     Imagine Dragons|            Believer|      6825|2018|\n",
      "|      Camila Cabello|Havana (feat. You...|      6785|2018|\n",
      "|     Imagine Dragons|             Thunder|      6065|2018|\n",
      "|Marshmello, Anne-...|             FRIENDS|      5969|2018|\n",
      "|        XXXTENTACION|                SAD!|      5660|2018|\n",
      "|               Drake|          God's Plan|      5593|2018|\n",
      "+--------------------+--------------------+----------+----+\n",
      "only showing top 20 rows\n",
      "\n"
     ]
    }
   ],
   "source": [
    "df.createOrReplaceTempView('df2')\n",
    "temp = spark.sql(\"\"\"\n",
    "  SELECT * FROM df2 WHERE chart='top200'\n",
    "\"\"\")\n",
    "temp.createOrReplaceTempView('df2')\n",
    "hot2017 = spark.sql(\"\"\"\n",
    "  SELECT artist, title, COUNT(*) AS TrendCount FROM df2 WHERE trend = \"MOVE_UP\" AND YEAR(date) = 2017 GROUP BY artist, title ORDER BY TrendCount DESC LIMIT 10\n",
    "\"\"\")\n",
    "hot2018 = spark.sql(\"\"\"\n",
    "  SELECT artist, title, COUNT(*) AS TrendCount FROM df2 WHERE trend = \"MOVE_UP\" AND YEAR(date) = 2018 GROUP BY artist, title ORDER BY TrendCount DESC LIMIT 10\n",
    "\"\"\")\n",
    "hot2019 = spark.sql(\"\"\"\n",
    "  SELECT artist, title, COUNT(*) AS TrendCount FROM df2 WHERE trend = \"MOVE_UP\" AND YEAR(date) = 2019 GROUP BY artist, title ORDER BY TrendCount DESC LIMIT 10\n",
    "\"\"\")\n",
    "hot2020 = spark.sql(\"\"\"\n",
    "  SELECT artist, title, COUNT(*) AS TrendCount FROM df2 WHERE trend = \"MOVE_UP\" AND YEAR(date) = 2020 GROUP BY artist, title ORDER BY TrendCount DESC LIMIT 10\n",
    "\"\"\")\n",
    "hot2021 = spark.sql(\"\"\"\n",
    "  SELECT artist, title, COUNT(*) AS TrendCount FROM df2 WHERE trend = \"MOVE_UP\" AND YEAR(date) = 2021 GROUP BY artist, title ORDER BY TrendCount DESC LIMIT 10\n",
    "\"\"\")\n",
    "hot2017 = hot2017.withColumn(\"year\", lit(\"2017\"))\n",
    "hot2018 = hot2018.withColumn(\"year\", lit(\"2018\"))\n",
    "hot2019 = hot2019.withColumn(\"year\", lit(\"2019\"))\n",
    "hot2020 = hot2020.withColumn(\"year\", lit(\"2020\"))\n",
    "hot2021 = hot2021.withColumn(\"year\", lit(\"2021\"))\n",
    "hot2017to2021 = hot2017.union(hot2018).union(hot2019).union(hot2020).union(hot2021)\n",
    "hot2017to2021.show()"
   ]
  },
  {
   "cell_type": "markdown",
   "metadata": {},
   "source": [
    "ArtistSentiment - percentage of song sentiment per artist (using positive/negative/neutral sentiment analysis of those songs lyrics)"
   ]
  },
  {
   "cell_type": "code",
   "execution_count": 16,
   "metadata": {},
   "outputs": [
    {
     "ename": "NameError",
     "evalue": "name 'all_regions' is not defined",
     "output_type": "error",
     "traceback": [
      "\u001b[0;31m---------------------------------------------------------------------------\u001b[0m",
      "\u001b[0;31mNameError\u001b[0m                                 Traceback (most recent call last)",
      "\u001b[1;32m/home/ubuntu/part2.ipynb Cell 31\u001b[0m line \u001b[0;36m2\n\u001b[1;32m      <a href='vscode-notebook-cell://ssh-remote%2Bcs179g/home/ubuntu/part2.ipynb#X42sdnNjb2RlLXJlbW90ZQ%3D%3D?line=0'>1</a>\u001b[0m df_s\u001b[39m.\u001b[39mcreateOrReplaceTempView(\u001b[39m'\u001b[39m\u001b[39msentiment\u001b[39m\u001b[39m'\u001b[39m)\n\u001b[0;32m----> <a href='vscode-notebook-cell://ssh-remote%2Bcs179g/home/ubuntu/part2.ipynb#X42sdnNjb2RlLXJlbW90ZQ%3D%3D?line=1'>2</a>\u001b[0m all_regions\u001b[39m.\u001b[39mcreateOrReplaceTempView(\u001b[39m'\u001b[39m\u001b[39mregions\u001b[39m\u001b[39m'\u001b[39m)\n\u001b[1;32m      <a href='vscode-notebook-cell://ssh-remote%2Bcs179g/home/ubuntu/part2.ipynb#X42sdnNjb2RlLXJlbW90ZQ%3D%3D?line=2'>3</a>\u001b[0m regional \u001b[39m=\u001b[39m spark\u001b[39m.\u001b[39msql(\u001b[39m\"\"\"\u001b[39m\n\u001b[1;32m      <a href='vscode-notebook-cell://ssh-remote%2Bcs179g/home/ubuntu/part2.ipynb#X42sdnNjb2RlLXJlbW90ZQ%3D%3D?line=3'>4</a>\u001b[0m \u001b[39m                SELECT DISTINCT artist FROM regions\u001b[39m\n\u001b[1;32m      <a href='vscode-notebook-cell://ssh-remote%2Bcs179g/home/ubuntu/part2.ipynb#X42sdnNjb2RlLXJlbW90ZQ%3D%3D?line=4'>5</a>\u001b[0m \u001b[39m\"\"\"\u001b[39m)\n\u001b[1;32m      <a href='vscode-notebook-cell://ssh-remote%2Bcs179g/home/ubuntu/part2.ipynb#X42sdnNjb2RlLXJlbW90ZQ%3D%3D?line=5'>6</a>\u001b[0m regional\u001b[39m.\u001b[39mcreateOrReplaceTempView(\u001b[39m'\u001b[39m\u001b[39mregions\u001b[39m\u001b[39m'\u001b[39m)\n",
      "\u001b[0;31mNameError\u001b[0m: name 'all_regions' is not defined"
     ]
    }
   ],
   "source": [
    "df_s.createOrReplaceTempView('sentiment')\n",
    "all_regions.createOrReplaceTempView('regions')\n",
    "regional = spark.sql(\"\"\"\n",
    "                SELECT DISTINCT artist FROM regions\n",
    "\"\"\")\n",
    "regional.createOrReplaceTempView('regions')\n",
    "temp = spark.sql(\"\"\"\n",
    "                SELECT Artist, COUNT(CASE WHEN sentiment = 'Negative' THEN 1 END) AS NegativeCount, COUNT(CASE WHEN sentiment = 'Neutral' THEN 1 END) AS NeutralCount, COUNT(CASE WHEN sentiment = 'Positive' THEN 1 END) AS PositiveCount FROM sentiment GROUP BY Artist;\n",
    "\"\"\")\n",
    "temp.createOrReplaceTempView('sentiment')\n",
    "joinem = spark.sql(\"\"\"\n",
    "                SELECT hs.artist, sen.NegativeCount, sen.NeutralCount, sen.PositiveCount FROM regions hs LEFT JOIN sentiment sen ON hs.artist = sen.Artist WHERE sen.Artist IS NOT NULL\n",
    "\"\"\").show()"
   ]
  },
  {
   "cell_type": "markdown",
   "metadata": {},
   "source": [
    "more mysql testing / uploading tables"
   ]
  },
  {
   "cell_type": "code",
   "execution_count": 11,
   "metadata": {},
   "outputs": [
    {
     "ename": "NameError",
     "evalue": "name 'joinem' is not defined",
     "output_type": "error",
     "traceback": [
      "\u001b[0;31m---------------------------------------------------------------------------\u001b[0m",
      "\u001b[0;31mNameError\u001b[0m                                 Traceback (most recent call last)",
      "\u001b[1;32m/home/ubuntu/part2.ipynb Cell 33\u001b[0m line \u001b[0;36m1\n\u001b[0;32m----> <a href='vscode-notebook-cell://ssh-remote%2Bcs179g/home/ubuntu/part2.ipynb#X44sdnNjb2RlLXJlbW90ZQ%3D%3D?line=0'>1</a>\u001b[0m joinem\u001b[39m.\u001b[39mwrite\u001b[39m.\u001b[39mformat(\u001b[39m\"\u001b[39m\u001b[39mjdbc\u001b[39m\u001b[39m\"\u001b[39m)\u001b[39m.\u001b[39moption(\u001b[39m\"\u001b[39m\u001b[39mdriver\u001b[39m\u001b[39m\"\u001b[39m,\u001b[39m\"\u001b[39m\u001b[39mcom.mysql.jdbc.Driver\u001b[39m\u001b[39m\"\u001b[39m)\u001b[39m.\u001b[39moption(\u001b[39m\"\u001b[39m\u001b[39murl\u001b[39m\u001b[39m\"\u001b[39m, \u001b[39m\"\u001b[39m\u001b[39mjdbc:mysql://localhost:3306/cs179g\u001b[39m\u001b[39m\"\u001b[39m)\u001b[39m.\u001b[39moption(\u001b[39m\"\u001b[39m\u001b[39mdbtable\u001b[39m\u001b[39m\"\u001b[39m, \u001b[39m\"\u001b[39m\u001b[39mArtistSentiment\u001b[39m\u001b[39m\"\u001b[39m)\u001b[39m.\u001b[39moption(\u001b[39m\"\u001b[39m\u001b[39muser\u001b[39m\u001b[39m\"\u001b[39m, \u001b[39m\"\u001b[39m\u001b[39mhpham\u001b[39m\u001b[39m\"\u001b[39m)\u001b[39m.\u001b[39moption(\u001b[39m\"\u001b[39m\u001b[39mpassword\u001b[39m\u001b[39m\"\u001b[39m, \u001b[39m\"\u001b[39m\u001b[39mhalpal\u001b[39m\u001b[39m\"\u001b[39m)\u001b[39m.\u001b[39msave()\n",
      "\u001b[0;31mNameError\u001b[0m: name 'joinem' is not defined"
     ]
    }
   ],
   "source": [
    "joinem.write.format(\"jdbc\").option(\"driver\",\"com.mysql.jdbc.Driver\").option(\"url\", \"jdbc:mysql://localhost:3306/cs179g\").option(\"dbtable\", \"ArtistSentiment\").option(\"user\", \"hpham\").option(\"password\", \"halpal\").save()"
   ]
  },
  {
   "cell_type": "code",
   "execution_count": 48,
   "metadata": {},
   "outputs": [],
   "source": [
    "db_cursor.execute(\"SELECT * FROM Songs;\")\n",
    "# Fetch all the results\n",
    "results = db_cursor.fetchall()\n",
    "\n",
    "# Display the results\n",
    "for row in results:\n",
    "    print(row)"
   ]
  },
  {
   "cell_type": "code",
   "execution_count": 19,
   "metadata": {},
   "outputs": [
    {
     "name": "stdout",
     "output_type": "stream",
     "text": [
      "('ArtistByRegion',)\n",
      "('ArtistSentiment',)\n",
      "('HottestSongsPerYear',)\n",
      "('MostPopularPerYear',)\n",
      "('Seasons',)\n"
     ]
    }
   ],
   "source": [
    "db_cursor.execute(\"SHOW TABLES;\")\n",
    "# Fetch all the results\n",
    "results = db_cursor.fetchall()\n",
    "\n",
    "# Display the results\n",
    "for row in results:\n",
    "    print(row)"
   ]
  },
  {
   "cell_type": "markdown",
   "metadata": {},
   "source": [
    "Kanin Using for ref"
   ]
  },
  {
   "cell_type": "code",
   "execution_count": 15,
   "metadata": {},
   "outputs": [
    {
     "name": "stdout",
     "output_type": "stream",
     "text": [
      "Column Names: ['region', 'artist', 'song_count']\n",
      "('Argentina', 'Maluma', 5673)\n",
      "('Argentina', 'Paulo Londra', 5630)\n",
      "('Argentina', 'Ed Sheeran', 5397)\n",
      "('Australia', 'Ed Sheeran', 13194)\n",
      "('Australia', 'Post Malone', 7907)\n",
      "('Australia', 'Billie Eilish', 7141)\n",
      "('Austria', 'Ed Sheeran', 5431)\n",
      "('Austria', 'Capital Bra', 4695)\n",
      "('Austria', 'Billie Eilish', 4275)\n",
      "('Belgium', 'Ed Sheeran', 8567)\n",
      "('Belgium', 'Billie Eilish', 6366)\n",
      "('Belgium', 'XXXTENTACION', 5604)\n",
      "('Bolivia', 'Bad Bunny', 8703)\n",
      "('Bolivia', 'Maluma', 6296)\n",
      "('Bolivia', 'Christian Nodal', 4676)\n",
      "('Brazil', 'Marília Mendonça', 11059)\n",
      "('Brazil', 'Zé Neto & Cristiano', 9385)\n",
      "('Brazil', 'Henrique & Juliano', 8914)\n",
      "('Bulgaria', 'Pop Smoke', 3265)\n",
      "('Bulgaria', 'Travis Scott', 2760)\n",
      "('Bulgaria', 'Billie Eilish', 2115)\n",
      "('Canada', 'Drake', 9217)\n",
      "('Canada', 'Post Malone', 8887)\n",
      "('Canada', 'Ed Sheeran', 7799)\n",
      "('Chile', 'Bad Bunny', 11926)\n",
      "('Chile', 'Maluma', 5335)\n",
      "('Chile', 'Ozuna', 5107)\n",
      "('Colombia', 'Bad Bunny', 8939)\n",
      "('Colombia', 'Maluma', 5644)\n",
      "('Colombia', 'J Balvin', 5626)\n",
      "('Costa Rica', 'Bad Bunny', 9801)\n",
      "('Costa Rica', 'Ed Sheeran', 7435)\n",
      "('Costa Rica', 'Christian Nodal', 7264)\n",
      "('Czech Republic', 'Imagine Dragons', 9000)\n",
      "('Czech Republic', 'Ed Sheeran', 8954)\n",
      "('Czech Republic', 'Viktor Sheen', 6841)\n",
      "('Denmark', 'Ed Sheeran', 9537)\n",
      "('Denmark', 'Gilli', 7765)\n",
      "('Denmark', 'KESI', 5347)\n",
      "('Dominican Republic', 'Bad Bunny', 17773)\n",
      "('Dominican Republic', 'Ozuna', 8973)\n",
      "('Dominican Republic', 'Maluma', 4540)\n",
      "('Ecuador', 'Bad Bunny', 10654)\n",
      "('Ecuador', 'Maluma', 6274)\n",
      "('Ecuador', 'Ed Sheeran', 4808)\n",
      "('Egypt', 'Wegz', 9444)\n",
      "('Egypt', 'Amr Diab', 5195)\n",
      "('Egypt', 'Marwan Pablo', 5121)\n",
      "('El Salvador', 'Bad Bunny', 13564)\n",
      "('El Salvador', 'Maluma', 4424)\n",
      "('El Salvador', 'Ozuna', 4088)\n",
      "('Estonia', 'nublu', 3424)\n",
      "('Estonia', 'Billie Eilish', 2967)\n",
      "('Estonia', 'Ed Sheeran', 2168)\n",
      "('Finland', 'JVG', 8866)\n",
      "('Finland', 'Billie Eilish', 4547)\n",
      "('Finland', 'Ed Sheeran', 4438)\n",
      "('France', 'Ninho', 12785)\n",
      "('France', 'Damso', 8938)\n",
      "('France', 'PNL', 7500)\n",
      "('Germany', 'Apache 207', 5914)\n",
      "('Germany', 'Capital Bra', 4710)\n",
      "('Germany', 'Ed Sheeran', 4530)\n",
      "('Global', 'Ed Sheeran', 10319)\n",
      "('Global', 'Post Malone', 7377)\n",
      "('Global', 'Billie Eilish', 7336)\n",
      "('Greece', 'Billie Eilish', 5574)\n",
      "('Greece', 'Light', 5538)\n",
      "('Greece', 'SNIK', 5384)\n",
      "('Guatemala', 'Bad Bunny', 12544)\n",
      "('Guatemala', 'Christian Nodal', 7929)\n",
      "('Guatemala', 'Maluma', 5354)\n",
      "('Honduras', 'Bad Bunny', 16182)\n",
      "('Honduras', 'Christian Nodal', 5954)\n",
      "('Honduras', 'Maluma', 4010)\n",
      "('Hong Kong', 'Ed Sheeran', 10346)\n",
      "('Hong Kong', 'Dear Jane', 8922)\n",
      "('Hong Kong', 'Hins Cheung', 7675)\n",
      "('Hungary', 'Follow The Flow', 6356)\n",
      "('Hungary', 'Imagine Dragons', 6336)\n",
      "('Hungary', 'Ed Sheeran', 6158)\n",
      "('Iceland', 'Hafdís Huld', 8324)\n",
      "('Iceland', 'Billie Eilish', 5069)\n",
      "('Iceland', 'JóiPé, Króli', 4751)\n",
      "('India', 'Arijit Singh', 4316)\n",
      "('India', 'Pritam, Arijit Singh', 4169)\n",
      "('India', 'BTS', 3882)\n",
      "('Indonesia', 'Tulus', 7890)\n",
      "('Indonesia', 'Ed Sheeran', 7552)\n",
      "('Indonesia', 'BTS', 6908)\n",
      "('Ireland', 'Ed Sheeran', 11686)\n",
      "('Ireland', 'Billie Eilish', 6675)\n",
      "('Ireland', 'Post Malone', 6408)\n",
      "('Israel', 'Eden Hason', 9831)\n",
      "('Israel', 'Omer Adam', 8592)\n",
      "('Israel', 'Ishay Ribo', 4961)\n",
      "('Italy', 'Sfera Ebbasta', 8332)\n",
      "('Italy', 'Ultimo', 7735)\n",
      "('Italy', 'Capo Plaza', 6314)\n",
      "('Japan', 'Official HIGE DANdism', 11866)\n",
      "('Japan', 'Aimyon', 11317)\n",
      "('Japan', 'BTS', 11237)\n",
      "('Latvia', 'Billie Eilish', 4208)\n",
      "('Latvia', 'Post Malone', 3435)\n",
      "('Latvia', 'Juice WRLD', 2678)\n",
      "('Lithuania', 'Billie Eilish', 4561)\n",
      "('Lithuania', 'Dua Lipa', 2384)\n",
      "('Lithuania', 'Post Malone', 2351)\n",
      "('Luxembourg', 'Ed Sheeran', 470)\n",
      "('Luxembourg', 'Luis Fonsi', 170)\n",
      "('Luxembourg', 'Imagine Dragons', 170)\n",
      "('Malaysia', 'Ed Sheeran', 10627)\n",
      "('Malaysia', 'BTS', 9602)\n",
      "('Malaysia', 'BLACKPINK', 7700)\n",
      "('Mexico', 'Bad Bunny', 9210)\n",
      "('Mexico', 'Luis Miguel', 7753)\n",
      "('Mexico', 'Christian Nodal', 7619)\n",
      "('Morocco', 'ElGrandeToto', 7964)\n",
      "('Morocco', 'Inkonnu', 3710)\n",
      "('Morocco', 'Snor', 1877)\n",
      "('Netherlands', 'Ed Sheeran', 6579)\n",
      "('Netherlands', 'Billie Eilish', 3699)\n",
      "('Netherlands', 'Lil Kleine', 3378)\n",
      "('New Zealand', 'SIX60', 14405)\n",
      "('New Zealand', 'Ed Sheeran', 13043)\n",
      "('New Zealand', 'Post Malone', 7612)\n",
      "('Nicaragua', 'Bad Bunny', 8951)\n",
      "('Nicaragua', 'Christian Nodal', 2752)\n",
      "('Nicaragua', 'J Balvin', 2179)\n",
      "('Norway', 'Ed Sheeran', 6733)\n",
      "('Norway', 'Billie Eilish', 6190)\n",
      "('Norway', 'Post Malone', 5358)\n",
      "('Panama', 'Bad Bunny', 12796)\n",
      "('Panama', 'Sech', 6554)\n",
      "('Panama', 'Ozuna', 6255)\n",
      "('Paraguay', 'Bad Bunny', 10369)\n",
      "('Paraguay', 'Ozuna', 5020)\n",
      "('Paraguay', 'Paulo Londra', 4852)\n",
      "('Peru', 'Bad Bunny', 8583)\n",
      "('Peru', 'Maluma', 6936)\n",
      "('Peru', 'Ozuna', 4685)\n",
      "('Philippines', 'Ed Sheeran', 10409)\n",
      "('Philippines', 'Ben&Ben', 9887)\n",
      "('Philippines', 'LANY', 9227)\n",
      "('Poland', 'Taco Hemingway', 7976)\n",
      "('Poland', 'Ed Sheeran', 5650)\n",
      "('Poland', 'Dawid Podsiadło', 5222)\n",
      "('Portugal', 'Wet Bed Gang', 7526)\n",
      "('Portugal', 'Ed Sheeran', 6278)\n",
      "('Portugal', 'Billie Eilish', 6044)\n",
      "('Romania', 'XXXTENTACION', 6863)\n",
      "('Romania', 'Billie Eilish', 6400)\n",
      "('Romania', 'Nane', 5725)\n",
      "('Russia', 'Miyagi & Andy Panda', 2772)\n",
      "('Russia', 'MORGENSHTERN', 2427)\n",
      "('Russia', 'kizaru', 2111)\n",
      "('Saudi Arabia', 'XXXTENTACION', 6124)\n",
      "('Saudi Arabia', 'Billie Eilish', 3761)\n",
      "('Saudi Arabia', 'Aseel Hameem', 3455)\n",
      "('Singapore', 'Ed Sheeran', 12967)\n",
      "('Singapore', 'JJ Lin', 10251)\n",
      "('Singapore', 'Eric Chou', 8280)\n",
      "('Slovakia', 'DMS', 5636)\n",
      "('Slovakia', 'Billie Eilish', 5322)\n",
      "('Slovakia', 'Post Malone', 4881)\n",
      "('South Africa', 'Billie Eilish', 5837)\n",
      "('South Africa', 'Ed Sheeran', 5399)\n",
      "('South Africa', 'Drake', 5226)\n",
      "('South Korea', 'BTS', 6408)\n",
      "('South Korea', 'IU', 3050)\n",
      "('South Korea', 'Justin Bieber', 2384)\n",
      "('Spain', 'Bad Bunny', 5829)\n",
      "('Spain', 'Beret', 5471)\n",
      "('Spain', 'Ed Sheeran', 4718)\n",
      "('Sweden', 'Ed Sheeran', 7942)\n",
      "('Sweden', 'Hov1', 7796)\n",
      "('Sweden', 'Avicii', 6009)\n",
      "('Switzerland', 'Ed Sheeran', 8171)\n",
      "('Switzerland', 'Billie Eilish', 4719)\n",
      "('Switzerland', 'Imagine Dragons', 4129)\n",
      "('Taiwan', 'G.E.M.', 9781)\n",
      "('Taiwan', 'Eric Chou', 8567)\n",
      "('Taiwan', 'Ed Sheeran', 7473)\n",
      "('Thailand', 'BLACKPINK', 7433)\n",
      "('Thailand', 'BTS', 6961)\n",
      "('Thailand', 'Polycat', 5984)\n",
      "('Turkey', 'Ezhel', 10253)\n",
      "('Turkey', 'Yüzyüzeyken Konuşuruz', 8114)\n",
      "('Turkey', 'Adamlar', 5777)\n",
      "('Ukraine', 'MORGENSHTERN', 2759)\n",
      "('Ukraine', 'Miyagi & Andy Panda', 2633)\n",
      "('Ukraine', 'kizaru', 2618)\n",
      "('United Arab Emirates', 'XXXTENTACION', 4360)\n",
      "('United Arab Emirates', 'Ed Sheeran', 4288)\n",
      "('United Arab Emirates', 'Billie Eilish', 3356)\n",
      "('United Kingdom', 'Ed Sheeran', 11869)\n",
      "('United Kingdom', 'Drake', 6973)\n",
      "('United Kingdom', 'Post Malone', 6458)\n",
      "('United States', 'Juice WRLD', 10524)\n",
      "('United States', 'Post Malone', 10436)\n",
      "('United States', 'XXXTENTACION', 8807)\n",
      "('Uruguay', 'Ed Sheeran', 5620)\n",
      "('Uruguay', 'Maluma', 5437)\n",
      "('Uruguay', 'Bad Bunny', 5238)\n",
      "('Vietnam', 'BTS', 13404)\n",
      "('Vietnam', 'Mỹ Tâm', 6575)\n",
      "('Vietnam', 'BLACKPINK', 5519)\n",
      "[('Argentina', 'Maluma', 5673), ('Argentina', 'Paulo Londra', 5630), ('Argentina', 'Ed Sheeran', 5397), ('Australia', 'Ed Sheeran', 13194), ('Australia', 'Post Malone', 7907), ('Australia', 'Billie Eilish', 7141), ('Austria', 'Ed Sheeran', 5431), ('Austria', 'Capital Bra', 4695), ('Austria', 'Billie Eilish', 4275), ('Belgium', 'Ed Sheeran', 8567), ('Belgium', 'Billie Eilish', 6366), ('Belgium', 'XXXTENTACION', 5604), ('Bolivia', 'Bad Bunny', 8703), ('Bolivia', 'Maluma', 6296), ('Bolivia', 'Christian Nodal', 4676), ('Brazil', 'Marília Mendonça', 11059), ('Brazil', 'Zé Neto & Cristiano', 9385), ('Brazil', 'Henrique & Juliano', 8914), ('Bulgaria', 'Pop Smoke', 3265), ('Bulgaria', 'Travis Scott', 2760), ('Bulgaria', 'Billie Eilish', 2115), ('Canada', 'Drake', 9217), ('Canada', 'Post Malone', 8887), ('Canada', 'Ed Sheeran', 7799), ('Chile', 'Bad Bunny', 11926), ('Chile', 'Maluma', 5335), ('Chile', 'Ozuna', 5107), ('Colombia', 'Bad Bunny', 8939), ('Colombia', 'Maluma', 5644), ('Colombia', 'J Balvin', 5626), ('Costa Rica', 'Bad Bunny', 9801), ('Costa Rica', 'Ed Sheeran', 7435), ('Costa Rica', 'Christian Nodal', 7264), ('Czech Republic', 'Imagine Dragons', 9000), ('Czech Republic', 'Ed Sheeran', 8954), ('Czech Republic', 'Viktor Sheen', 6841), ('Denmark', 'Ed Sheeran', 9537), ('Denmark', 'Gilli', 7765), ('Denmark', 'KESI', 5347), ('Dominican Republic', 'Bad Bunny', 17773), ('Dominican Republic', 'Ozuna', 8973), ('Dominican Republic', 'Maluma', 4540), ('Ecuador', 'Bad Bunny', 10654), ('Ecuador', 'Maluma', 6274), ('Ecuador', 'Ed Sheeran', 4808), ('Egypt', 'Wegz', 9444), ('Egypt', 'Amr Diab', 5195), ('Egypt', 'Marwan Pablo', 5121), ('El Salvador', 'Bad Bunny', 13564), ('El Salvador', 'Maluma', 4424), ('El Salvador', 'Ozuna', 4088), ('Estonia', 'nublu', 3424), ('Estonia', 'Billie Eilish', 2967), ('Estonia', 'Ed Sheeran', 2168), ('Finland', 'JVG', 8866), ('Finland', 'Billie Eilish', 4547), ('Finland', 'Ed Sheeran', 4438), ('France', 'Ninho', 12785), ('France', 'Damso', 8938), ('France', 'PNL', 7500), ('Germany', 'Apache 207', 5914), ('Germany', 'Capital Bra', 4710), ('Germany', 'Ed Sheeran', 4530), ('Global', 'Ed Sheeran', 10319), ('Global', 'Post Malone', 7377), ('Global', 'Billie Eilish', 7336), ('Greece', 'Billie Eilish', 5574), ('Greece', 'Light', 5538), ('Greece', 'SNIK', 5384), ('Guatemala', 'Bad Bunny', 12544), ('Guatemala', 'Christian Nodal', 7929), ('Guatemala', 'Maluma', 5354), ('Honduras', 'Bad Bunny', 16182), ('Honduras', 'Christian Nodal', 5954), ('Honduras', 'Maluma', 4010), ('Hong Kong', 'Ed Sheeran', 10346), ('Hong Kong', 'Dear Jane', 8922), ('Hong Kong', 'Hins Cheung', 7675), ('Hungary', 'Follow The Flow', 6356), ('Hungary', 'Imagine Dragons', 6336), ('Hungary', 'Ed Sheeran', 6158), ('Iceland', 'Hafdís Huld', 8324), ('Iceland', 'Billie Eilish', 5069), ('Iceland', 'JóiPé, Króli', 4751), ('India', 'Arijit Singh', 4316), ('India', 'Pritam, Arijit Singh', 4169), ('India', 'BTS', 3882), ('Indonesia', 'Tulus', 7890), ('Indonesia', 'Ed Sheeran', 7552), ('Indonesia', 'BTS', 6908), ('Ireland', 'Ed Sheeran', 11686), ('Ireland', 'Billie Eilish', 6675), ('Ireland', 'Post Malone', 6408), ('Israel', 'Eden Hason', 9831), ('Israel', 'Omer Adam', 8592), ('Israel', 'Ishay Ribo', 4961), ('Italy', 'Sfera Ebbasta', 8332), ('Italy', 'Ultimo', 7735), ('Italy', 'Capo Plaza', 6314), ('Japan', 'Official HIGE DANdism', 11866), ('Japan', 'Aimyon', 11317), ('Japan', 'BTS', 11237), ('Latvia', 'Billie Eilish', 4208), ('Latvia', 'Post Malone', 3435), ('Latvia', 'Juice WRLD', 2678), ('Lithuania', 'Billie Eilish', 4561), ('Lithuania', 'Dua Lipa', 2384), ('Lithuania', 'Post Malone', 2351), ('Luxembourg', 'Ed Sheeran', 470), ('Luxembourg', 'Luis Fonsi', 170), ('Luxembourg', 'Imagine Dragons', 170), ('Malaysia', 'Ed Sheeran', 10627), ('Malaysia', 'BTS', 9602), ('Malaysia', 'BLACKPINK', 7700), ('Mexico', 'Bad Bunny', 9210), ('Mexico', 'Luis Miguel', 7753), ('Mexico', 'Christian Nodal', 7619), ('Morocco', 'ElGrandeToto', 7964), ('Morocco', 'Inkonnu', 3710), ('Morocco', 'Snor', 1877), ('Netherlands', 'Ed Sheeran', 6579), ('Netherlands', 'Billie Eilish', 3699), ('Netherlands', 'Lil Kleine', 3378), ('New Zealand', 'SIX60', 14405), ('New Zealand', 'Ed Sheeran', 13043), ('New Zealand', 'Post Malone', 7612), ('Nicaragua', 'Bad Bunny', 8951), ('Nicaragua', 'Christian Nodal', 2752), ('Nicaragua', 'J Balvin', 2179), ('Norway', 'Ed Sheeran', 6733), ('Norway', 'Billie Eilish', 6190), ('Norway', 'Post Malone', 5358), ('Panama', 'Bad Bunny', 12796), ('Panama', 'Sech', 6554), ('Panama', 'Ozuna', 6255), ('Paraguay', 'Bad Bunny', 10369), ('Paraguay', 'Ozuna', 5020), ('Paraguay', 'Paulo Londra', 4852), ('Peru', 'Bad Bunny', 8583), ('Peru', 'Maluma', 6936), ('Peru', 'Ozuna', 4685), ('Philippines', 'Ed Sheeran', 10409), ('Philippines', 'Ben&Ben', 9887), ('Philippines', 'LANY', 9227), ('Poland', 'Taco Hemingway', 7976), ('Poland', 'Ed Sheeran', 5650), ('Poland', 'Dawid Podsiadło', 5222), ('Portugal', 'Wet Bed Gang', 7526), ('Portugal', 'Ed Sheeran', 6278), ('Portugal', 'Billie Eilish', 6044), ('Romania', 'XXXTENTACION', 6863), ('Romania', 'Billie Eilish', 6400), ('Romania', 'Nane', 5725), ('Russia', 'Miyagi & Andy Panda', 2772), ('Russia', 'MORGENSHTERN', 2427), ('Russia', 'kizaru', 2111), ('Saudi Arabia', 'XXXTENTACION', 6124), ('Saudi Arabia', 'Billie Eilish', 3761), ('Saudi Arabia', 'Aseel Hameem', 3455), ('Singapore', 'Ed Sheeran', 12967), ('Singapore', 'JJ Lin', 10251), ('Singapore', 'Eric Chou', 8280), ('Slovakia', 'DMS', 5636), ('Slovakia', 'Billie Eilish', 5322), ('Slovakia', 'Post Malone', 4881), ('South Africa', 'Billie Eilish', 5837), ('South Africa', 'Ed Sheeran', 5399), ('South Africa', 'Drake', 5226), ('South Korea', 'BTS', 6408), ('South Korea', 'IU', 3050), ('South Korea', 'Justin Bieber', 2384), ('Spain', 'Bad Bunny', 5829), ('Spain', 'Beret', 5471), ('Spain', 'Ed Sheeran', 4718), ('Sweden', 'Ed Sheeran', 7942), ('Sweden', 'Hov1', 7796), ('Sweden', 'Avicii', 6009), ('Switzerland', 'Ed Sheeran', 8171), ('Switzerland', 'Billie Eilish', 4719), ('Switzerland', 'Imagine Dragons', 4129), ('Taiwan', 'G.E.M.', 9781), ('Taiwan', 'Eric Chou', 8567), ('Taiwan', 'Ed Sheeran', 7473), ('Thailand', 'BLACKPINK', 7433), ('Thailand', 'BTS', 6961), ('Thailand', 'Polycat', 5984), ('Turkey', 'Ezhel', 10253), ('Turkey', 'Yüzyüzeyken Konuşuruz', 8114), ('Turkey', 'Adamlar', 5777), ('Ukraine', 'MORGENSHTERN', 2759), ('Ukraine', 'Miyagi & Andy Panda', 2633), ('Ukraine', 'kizaru', 2618), ('United Arab Emirates', 'XXXTENTACION', 4360), ('United Arab Emirates', 'Ed Sheeran', 4288), ('United Arab Emirates', 'Billie Eilish', 3356), ('United Kingdom', 'Ed Sheeran', 11869), ('United Kingdom', 'Drake', 6973), ('United Kingdom', 'Post Malone', 6458), ('United States', 'Juice WRLD', 10524), ('United States', 'Post Malone', 10436), ('United States', 'XXXTENTACION', 8807), ('Uruguay', 'Ed Sheeran', 5620), ('Uruguay', 'Maluma', 5437), ('Uruguay', 'Bad Bunny', 5238), ('Vietnam', 'BTS', 13404), ('Vietnam', 'Mỹ Tâm', 6575), ('Vietnam', 'BLACKPINK', 5519)]\n"
     ]
    }
   ],
   "source": [
    "# for year trends\n",
    "\n",
    "db_cursor.execute(\"SELECT * FROM ArtistByRegion;\")\n",
    "results = db_cursor.fetchall()\n",
    "\n",
    "column_names = [description[0] for description in db_cursor.description]\n",
    "\n",
    "# # Display column names\n",
    "print(\"Column Names:\", column_names)\n",
    "\n",
    "# Display the results\n",
    "for row in results:\n",
    "    print(row)\n",
    "\n",
    "print(results)"
   ]
  },
  {
   "cell_type": "code",
   "execution_count": 24,
   "metadata": {},
   "outputs": [
    {
     "name": "stdout",
     "output_type": "stream",
     "text": [
      "[('Ozuna', 7, 5, 3), ('Maluma', 5, 3, 2), ('Capo Plaza', 1, 0, 0), ('Travis Scott', 1, 0, 0), ('Beret', 0, 0, 1), ('Ben&Ben', 0, 1, 1), ('Hov1', 4, 1, 1), ('Sech', 2, 0, 1), ('Bad Bunny', 6, 1, 0), ('KESI', 0, 2, 2), ('Lil Kleine', 1, 0, 0), ('Marília Mendonça', 0, 5, 4), ('Dua Lipa', 2, 3, 1), ('Ninho', 3, 1, 2), ('Christian Nodal', 1, 2, 0), ('PNL', 4, 4, 7), ('Damso', 2, 0, 1), ('Avicii', 0, 3, 0), ('Ultimo', 1, 1, 4), ('Justin Bieber', 0, 2, 0), ('Tulus', 0, 1, 6), ('Imagine Dragons', 1, 1, 1), ('Drake', 1, 7, 1), ('JóiPé, Króli', 1, 0, 1), ('Luis Miguel', 1, 2, 0), ('SIX60', 1, 5, 2), ('Gilli', 3, 0, 2), ('LANY', 3, 1, 0), ('Zé Neto & Cristiano', 1, 0, 0), ('Ed Sheeran', 2, 17, 1), ('Post Malone', 4, 1, 1), ('Sfera Ebbasta', 9, 1, 4), ('Wet Bed Gang', 3, 2, 0), ('J Balvin', 0, 3, 2), ('JVG', 1, 2, 10), ('Capital Bra', 2, 0, 0), ('Paulo Londra', 3, 0, 1)]\n"
     ]
    }
   ],
   "source": [
    "# for sentiments \n",
    "\n",
    "#db_cursor.execute(\"SELECT * FROM ArtistSentiment;\")\n",
    "db_cursor.execute(\"SELECT artist, NegativeCount, PositiveCount, NeutralCount FROM ArtistSentiment;\")\n",
    "results = db_cursor.fetchall()\n",
    "\n",
    "# column_names = [description[0] for description in db_cursor.description]\n",
    "\n",
    "# # Display column names\n",
    "# print(\"Column Names:\", column_names)\n",
    "\n",
    "# Display the results\n",
    "# for row in results:\n",
    "#     print(row)\n",
    "\n",
    "print(results)"
   ]
  }
 ],
 "metadata": {
  "kernelspec": {
   "display_name": "myenv",
   "language": "python",
   "name": "python3"
  },
  "language_info": {
   "codemirror_mode": {
    "name": "ipython",
    "version": 3
   },
   "file_extension": ".py",
   "mimetype": "text/x-python",
   "name": "python",
   "nbconvert_exporter": "python",
   "pygments_lexer": "ipython3",
   "version": "3.10.13"
  }
 },
 "nbformat": 4,
 "nbformat_minor": 2
}
