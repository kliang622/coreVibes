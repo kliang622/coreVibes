{
 "cells": [
  {
   "cell_type": "code",
   "execution_count": 1,
   "metadata": {},
   "outputs": [
    {
     "name": "stderr",
     "output_type": "stream",
     "text": [
      "Setting default log level to \"WARN\".\n",
      "To adjust logging level use sc.setLogLevel(newLevel). For SparkR, use setLogLevel(newLevel).\n",
      "23/11/16 22:59:22 WARN NativeCodeLoader: Unable to load native-hadoop library for your platform... using builtin-java classes where applicable\n"
     ]
    }
   ],
   "source": [
    "import pyspark\n",
    "from pyspark.sql import SparkSession\n",
    "\n",
    "#sc = pyspark.SparkContext('local[*]')\n",
    "ss = SparkSession.builder.master('local[*]').appName('Test').getOrCreate()"
   ]
  },
  {
   "cell_type": "code",
   "execution_count": 11,
   "metadata": {},
   "outputs": [
    {
     "ename": "AttributeError",
     "evalue": "'SparkSession' object has no attribute 'textFile'",
     "output_type": "error",
     "traceback": [
      "\u001b[0;31m---------------------------------------------------------------------------\u001b[0m",
      "\u001b[0;31mAttributeError\u001b[0m                            Traceback (most recent call last)",
      "\u001b[1;32m/home/ubuntu/part1.ipynb Cell 2\u001b[0m line \u001b[0;36m1\n\u001b[0;32m----> <a href='vscode-notebook-cell://ssh-remote%2Bcs179g/home/ubuntu/part1.ipynb#W1sdnNjb2RlLXJlbW90ZQ%3D%3D?line=0'>1</a>\u001b[0m testing \u001b[39m=\u001b[39m ss\u001b[39m.\u001b[39;49mtextFile(\u001b[39m'\u001b[39m\u001b[39m/home/ubuntu/charts.csv\u001b[39m\u001b[39m'\u001b[39m)\n\u001b[1;32m      <a href='vscode-notebook-cell://ssh-remote%2Bcs179g/home/ubuntu/part1.ipynb#W1sdnNjb2RlLXJlbW90ZQ%3D%3D?line=1'>2</a>\u001b[0m \u001b[39m#df = ss.read.csv('/home/ubuntu/charts.csv',header=True, escape=\"\\\"\")\u001b[39;00m\n",
      "\u001b[0;31mAttributeError\u001b[0m: 'SparkSession' object has no attribute 'textFile'"
     ]
    }
   ],
   "source": [
    "#testing = ss.textFile('/home/ubuntu/charts.csv')\n",
    "df = ss.read.csv('/home/ubuntu/charts.csv',header=True, escape=\"\\\"\")"
   ]
  },
  {
   "cell_type": "code",
   "execution_count": 10,
   "metadata": {},
   "outputs": [
    {
     "data": {
      "text/plain": [
       "[Row(title='Chantaje (feat. Maluma)', rank='1', date='2017-01-01', artist='Shakira', url='https://open.spotify.com/track/6mICuAdrwEjh6Y6lroV2Kg', region='Argentina', chart='top200', trend='SAME_POSITION', streams='253019'),\n",
       " Row(title=\"Vente Pa' Ca (feat. Maluma)\", rank='2', date='2017-01-01', artist='Ricky Martin', url='https://open.spotify.com/track/7DM4BPaS7uofFul3ywMe46', region='Argentina', chart='top200', trend='MOVE_UP', streams='223988'),\n",
       " Row(title='Reggaetón Lento (Bailemos)', rank='3', date='2017-01-01', artist='CNCO', url='https://open.spotify.com/track/3AEZUABDXNtecAOSC1qTfo', region='Argentina', chart='top200', trend='MOVE_DOWN', streams='210943'),\n",
       " Row(title='Safari', rank='4', date='2017-01-01', artist='J Balvin, Pharrell Williams, BIA, Sky', url='https://open.spotify.com/track/6rQSrBHf7HlZjtcMZ4S4bO', region='Argentina', chart='top200', trend='SAME_POSITION', streams='173865'),\n",
       " Row(title='Shaky Shaky', rank='5', date='2017-01-01', artist='Daddy Yankee', url='https://open.spotify.com/track/58IL315gMSTD37DOZPJ2hf', region='Argentina', chart='top200', trend='MOVE_UP', streams='153956')]"
      ]
     },
     "execution_count": 10,
     "metadata": {},
     "output_type": "execute_result"
    }
   ],
   "source": [
    "df.head(5)"
   ]
  },
  {
   "cell_type": "code",
   "execution_count": 1,
   "metadata": {},
   "outputs": [
    {
     "ename": "NameError",
     "evalue": "name 'sc' is not defined",
     "output_type": "error",
     "traceback": [
      "\u001b[0;31m---------------------------------------------------------------------------\u001b[0m",
      "\u001b[0;31mNameError\u001b[0m                                 Traceback (most recent call last)",
      "\u001b[1;32m/home/ubuntu/part1.ipynb Cell 4\u001b[0m line \u001b[0;36m1\n\u001b[0;32m----> <a href='vscode-notebook-cell://ssh-remote%2Bcs179g/home/ubuntu/part1.ipynb#W3sdnNjb2RlLXJlbW90ZQ%3D%3D?line=0'>1</a>\u001b[0m nums \u001b[39m=\u001b[39m sc\u001b[39m.\u001b[39mparallelize([\u001b[39m1\u001b[39m, \u001b[39m2\u001b[39m, \u001b[39m3\u001b[39m])\n\u001b[1;32m      <a href='vscode-notebook-cell://ssh-remote%2Bcs179g/home/ubuntu/part1.ipynb#W3sdnNjb2RlLXJlbW90ZQ%3D%3D?line=1'>2</a>\u001b[0m squares \u001b[39m=\u001b[39m nums\u001b[39m.\u001b[39mmap(\u001b[39mlambda\u001b[39;00m x: x\u001b[39m*\u001b[39mx)\n\u001b[1;32m      <a href='vscode-notebook-cell://ssh-remote%2Bcs179g/home/ubuntu/part1.ipynb#W3sdnNjb2RlLXJlbW90ZQ%3D%3D?line=2'>3</a>\u001b[0m even \u001b[39m=\u001b[39m squares\u001b[39m.\u001b[39mfilter(\u001b[39mlambda\u001b[39;00m x: x \u001b[39m%\u001b[39m \u001b[39m2\u001b[39m \u001b[39m==\u001b[39m \u001b[39m0\u001b[39m)\n",
      "\u001b[0;31mNameError\u001b[0m: name 'sc' is not defined"
     ]
    }
   ],
   "source": [
    "# spark example from part 1\n",
    "nums = ss.parallelize([1, 2, 3])\n",
    "squares = nums.map(lambda x: x*x)\n",
    "even = squares.filter(lambda x: x % 2 == 0)\n",
    "even.collect()\n",
    "x = sc.parallelize([\"spark rdd example\", \"sample example\"])\n",
    "y = x.flatMap(lambda x: x.split(' '))\n",
    "y.collect()"
   ]
  },
  {
   "cell_type": "code",
   "execution_count": null,
   "metadata": {},
   "outputs": [],
   "source": []
  }
 ],
 "metadata": {
  "kernelspec": {
   "display_name": "Python 3",
   "language": "python",
   "name": "python3"
  },
  "language_info": {
   "codemirror_mode": {
    "name": "ipython",
    "version": 3
   },
   "file_extension": ".py",
   "mimetype": "text/x-python",
   "name": "python",
   "nbconvert_exporter": "python",
   "pygments_lexer": "ipython3",
   "version": "3.10.13"
  }
 },
 "nbformat": 4,
 "nbformat_minor": 2
}
